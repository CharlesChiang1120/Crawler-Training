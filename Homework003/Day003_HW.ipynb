{
 "cells": [
  {
   "cell_type": "markdown",
   "metadata": {},
   "source": [
    "# Python 下載XML檔案與解析\n",
    "\n",
    "\n",
    "* 了解 xml 檔案格式與內容\n",
    "* 能夠利用套件存取 xml 格式的檔案\n"
   ]
  },
  {
   "cell_type": "markdown",
   "metadata": {},
   "source": [
    "## 作業目標\n",
    "\n",
    "* 比較一下範例檔案中的「File I/O」與「xmltodict」讀出來的內容有什麼差異\n",
    "\n",
    "* 根據範例檔案的結果：\n",
    "    1. 請問高雄市有多少地區有溫度資料？\n",
    "    2. 請取出每一個地區所記錄的第一個時間點跟溫度\n",
    "    3. 請取出第一個地區所記錄的每一個時間點跟溫度"
   ]
  },
  {
   "cell_type": "markdown",
   "metadata": {},
   "source": [
    "### 比較一下範例檔案中的「File I/O」與「xmltodict」讀出來的內容有什麼差異\n"
   ]
  },
  {
   "cell_type": "code",
   "execution_count": 2,
   "metadata": {},
   "outputs": [],
   "source": [
    "# 下載檔案\n",
    "import urllib.request\n",
    "import zipfile\n",
    "\n",
    "res = \"http://opendata.cwb.gov.tw/govdownload?dataid=F-D0047-093&authorizationkey=rdec-key-123-45678-011121314\"\n",
    "urllib.request.urlretrieve(res, \"./data/example.zip\")\n",
    "f = zipfile.ZipFile('./data/example.zip')\n",
    "f.extractall('./data')"
   ]
  },
  {
   "cell_type": "code",
   "execution_count": 68,
   "metadata": {
    "scrolled": true
   },
   "outputs": [],
   "source": [
    "fh = open(\"./data/64_72hr_CH.xml\", \"r\")\n",
    "xml = fh.read()\n",
    "fh.close()\n",
    "\n",
    "#print(xml)"
   ]
  },
  {
   "cell_type": "code",
   "execution_count": 69,
   "metadata": {},
   "outputs": [],
   "source": [
    "import xmltodict\n",
    "d = dict(xmltodict.parse(xml))"
   ]
  },
  {
   "cell_type": "code",
   "execution_count": 70,
   "metadata": {},
   "outputs": [
    {
     "data": {
      "text/plain": [
       "38"
      ]
     },
     "execution_count": 70,
     "metadata": {},
     "output_type": "execute_result"
    }
   ],
   "source": [
    "len(d['cwbopendata']['dataset']['locations']['location'])"
   ]
  },
  {
   "cell_type": "markdown",
   "metadata": {},
   "source": [
    "### 根據範例檔案的結果：\n",
    "\n",
    "1. 請問高雄市有多少地區有溫度資料？\n",
    "2. 請取出每一個地區所記錄的第一個時間點跟溫度\n",
    "3. 請取出第一個地區所記錄的每一個時間點跟溫度"
   ]
  },
  {
   "cell_type": "code",
   "execution_count": 71,
   "metadata": {},
   "outputs": [
    {
     "data": {
      "text/plain": [
       "38"
      ]
     },
     "execution_count": 71,
     "metadata": {},
     "output_type": "execute_result"
    }
   ],
   "source": [
    "# 1. 請問高雄市有多少地區有溫度資料？\n",
    "len(d['cwbopendata']['dataset']['locations']['location'])"
   ]
  },
  {
   "cell_type": "code",
   "execution_count": 72,
   "metadata": {},
   "outputs": [],
   "source": [
    "# 2. 請取出每一個地區所記錄的第一個時間點跟溫度\n",
    "firstplace_time = d['cwbopendata']['dataset']['locations']['location'][0]['weatherElement'][0]['time'][0]['dataTime']\n",
    "\n",
    "firstplace_temperature = d['cwbopendata']['dataset']['locations']['location'][0]['weatherElement'][0]['time']\\\n",
    "                                    [0]['elementValue']['value']"
   ]
  },
  {
   "cell_type": "code",
   "execution_count": 73,
   "metadata": {},
   "outputs": [
    {
     "data": {
      "text/plain": [
       "'2020-10-22T18:00:00+08:00'"
      ]
     },
     "execution_count": 73,
     "metadata": {},
     "output_type": "execute_result"
    }
   ],
   "source": [
    "firstplace_time"
   ]
  },
  {
   "cell_type": "code",
   "execution_count": 74,
   "metadata": {},
   "outputs": [
    {
     "data": {
      "text/plain": [
       "'28'"
      ]
     },
     "execution_count": 74,
     "metadata": {},
     "output_type": "execute_result"
    }
   ],
   "source": [
    "firstplace_temperature"
   ]
  },
  {
   "cell_type": "code",
   "execution_count": 75,
   "metadata": {},
   "outputs": [
    {
     "data": {
      "text/plain": [
       "24"
      ]
     },
     "execution_count": 75,
     "metadata": {},
     "output_type": "execute_result"
    }
   ],
   "source": [
    "# 3. 請取出第一個地區所記錄的每一個時間點跟溫度\n",
    "len(d['cwbopendata']['dataset']['locations']['location'][0]['weatherElement'][0]['time'])"
   ]
  },
  {
   "cell_type": "code",
   "execution_count": 76,
   "metadata": {},
   "outputs": [],
   "source": [
    "firstplace_all = {}\n",
    "for i in range(0,24):\n",
    "    firstplace_time = d['cwbopendata']['dataset']['locations']['location'][0]['weatherElement']\\\n",
    "                                                        [0]['time'][i]['dataTime']\n",
    "    firstplace_temperature = d['cwbopendata']['dataset']['locations']['location'][0]['weatherElement'][0]['time']\\\n",
    "                                    [i]['elementValue']['value']\n",
    "    \n",
    "    firstplace_all[firstplace_time] = firstplace_temperature"
   ]
  },
  {
   "cell_type": "code",
   "execution_count": 77,
   "metadata": {},
   "outputs": [
    {
     "data": {
      "text/plain": [
       "{'2020-10-22T18:00:00+08:00': '28',\n",
       " '2020-10-22T21:00:00+08:00': '26',\n",
       " '2020-10-23T00:00:00+08:00': '25',\n",
       " '2020-10-23T03:00:00+08:00': '24',\n",
       " '2020-10-23T06:00:00+08:00': '23',\n",
       " '2020-10-23T09:00:00+08:00': '26',\n",
       " '2020-10-23T12:00:00+08:00': '29',\n",
       " '2020-10-23T15:00:00+08:00': '29',\n",
       " '2020-10-23T18:00:00+08:00': '27',\n",
       " '2020-10-23T21:00:00+08:00': '26',\n",
       " '2020-10-24T00:00:00+08:00': '25',\n",
       " '2020-10-24T03:00:00+08:00': '24',\n",
       " '2020-10-24T06:00:00+08:00': '24',\n",
       " '2020-10-24T09:00:00+08:00': '26',\n",
       " '2020-10-24T12:00:00+08:00': '28',\n",
       " '2020-10-24T15:00:00+08:00': '28',\n",
       " '2020-10-24T18:00:00+08:00': '27',\n",
       " '2020-10-24T21:00:00+08:00': '26',\n",
       " '2020-10-25T00:00:00+08:00': '26',\n",
       " '2020-10-25T03:00:00+08:00': '25',\n",
       " '2020-10-25T06:00:00+08:00': '24',\n",
       " '2020-10-25T09:00:00+08:00': '26',\n",
       " '2020-10-25T12:00:00+08:00': '28',\n",
       " '2020-10-25T15:00:00+08:00': '28'}"
      ]
     },
     "execution_count": 77,
     "metadata": {},
     "output_type": "execute_result"
    }
   ],
   "source": [
    "firstplace_all"
   ]
  }
 ],
 "metadata": {
  "kernelspec": {
   "display_name": "Python 3",
   "language": "python",
   "name": "python3"
  },
  "language_info": {
   "codemirror_mode": {
    "name": "ipython",
    "version": 3
   },
   "file_extension": ".py",
   "mimetype": "text/x-python",
   "name": "python",
   "nbconvert_exporter": "python",
   "pygments_lexer": "ipython3",
   "version": "3.7.7"
  }
 },
 "nbformat": 4,
 "nbformat_minor": 2
}
