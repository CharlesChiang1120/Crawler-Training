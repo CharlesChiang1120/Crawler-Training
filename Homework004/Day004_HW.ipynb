{
 "cells": [
  {
   "cell_type": "markdown",
   "metadata": {
    "colab_type": "text",
    "id": "uSf0mVenUdOf"
   },
   "source": [
    "# 利用 Python 存取 API\n",
    "\n",
    "\n",
    "* 了解 Server Client 的架構與溝通方法\n",
    "* 知道 HTTP Request & Response 的內容\n",
    "* 什麼是 API？如何用 Python 程式存取 API 資料\n"
   ]
  },
  {
   "cell_type": "markdown",
   "metadata": {
    "colab_type": "text",
    "id": "FwvxVPZuUdOh"
   },
   "source": [
    "## 作業目標\n",
    "\n",
    "* 比較一下範例檔案中的「r.text」與「json.loads(r.text)」讀出來的內容有什麼差異\n",
    "* 自行尋找一個合適的 API 接口做練習，並且查看其回傳內容\n",
    "    * https://cat-fact.herokuapp.com/facts (來源：https://alexwohlbruck.github.io/cat-facts/)\n",
    "    * http://odata.wra.gov.tw/v4/RealtimeWaterLevel (來源：https://data.gov.tw/dataset/25768)\n",
    "\n"
   ]
  },
  {
   "cell_type": "markdown",
   "metadata": {
    "colab_type": "text",
    "id": "r5GIjwYuUdOi"
   },
   "source": [
    "### 比較一下範例檔案中的「r.text」與「json.loads(r.text)」讀出來的內容有什麼差異"
   ]
  },
  {
   "cell_type": "markdown",
   "metadata": {},
   "source": [
    "---"
   ]
  },
  {
   "cell_type": "markdown",
   "metadata": {},
   "source": [
    "### r.text是String\n",
    "### json.loads(r.text)是List"
   ]
  },
  {
   "cell_type": "code",
   "execution_count": 18,
   "metadata": {
    "colab": {},
    "colab_type": "code",
    "id": "sVxW3MTeUdOj",
    "outputId": "a83e3e3b-eb9d-4c6d-d5d2-3a2ef30cee87"
   },
   "outputs": [
    {
     "data": {
      "text/plain": [
       "'[{\"id\":\"14127896084\",\"type\":\"PushEvent\",\"actor\":{\"id\":56418363,\"login\":\"Nuel64\",\"display_login\":\"Nue'"
      ]
     },
     "execution_count": 18,
     "metadata": {},
     "output_type": "execute_result"
    }
   ],
   "source": [
    "import requests\n",
    "\n",
    "r = requests.get('https://api.github.com/events')\n",
    "r.text[0:100]"
   ]
  },
  {
   "cell_type": "code",
   "execution_count": 19,
   "metadata": {},
   "outputs": [
    {
     "data": {
      "text/plain": [
       "{'id': '14127896084',\n",
       " 'type': 'PushEvent',\n",
       " 'actor': {'id': 56418363,\n",
       "  'login': 'Nuel64',\n",
       "  'display_login': 'Nuel64',\n",
       "  'gravatar_id': '',\n",
       "  'url': 'https://api.github.com/users/Nuel64',\n",
       "  'avatar_url': 'https://avatars.githubusercontent.com/u/56418363?'},\n",
       " 'repo': {'id': 310071474,\n",
       "  'name': 'Nuel64/schoolportal',\n",
       "  'url': 'https://api.github.com/repos/Nuel64/schoolportal'},\n",
       " 'payload': {'push_id': 5998587049,\n",
       "  'size': 2,\n",
       "  'distinct_size': 2,\n",
       "  'ref': 'refs/heads/master',\n",
       "  'head': '6ace99ad14e3c50396ffd237b4df774a688a7a45',\n",
       "  'before': '45e17b98d8be2b1060d394266c45db7c80458480',\n",
       "  'commits': [{'sha': '3150a99e4d422c793ca34caa89e4182c2c334b3b',\n",
       "    'author': {'email': 'emmanueln644@gmail.com', 'name': 'Emmanuel Nehemiah'},\n",
       "    'message': 'Gitacora saved 1 changed files',\n",
       "    'distinct': True,\n",
       "    'url': 'https://api.github.com/repos/Nuel64/schoolportal/commits/3150a99e4d422c793ca34caa89e4182c2c334b3b'},\n",
       "   {'sha': '6ace99ad14e3c50396ffd237b4df774a688a7a45',\n",
       "    'author': {'email': 'emmanueln644@gmail.com', 'name': 'Emmanuel Nehemiah'},\n",
       "    'message': 'Gitacora saved 1 changed files',\n",
       "    'distinct': True,\n",
       "    'url': 'https://api.github.com/repos/Nuel64/schoolportal/commits/6ace99ad14e3c50396ffd237b4df774a688a7a45'}]},\n",
       " 'public': True,\n",
       " 'created_at': '2020-11-09T13:49:31Z'}"
      ]
     },
     "execution_count": 19,
     "metadata": {},
     "output_type": "execute_result"
    }
   ],
   "source": [
    "import json\n",
    "\n",
    "json.loads(r.text)[0]"
   ]
  },
  {
   "cell_type": "markdown",
   "metadata": {
    "colab_type": "text",
    "id": "eJwMGD6XUdOn"
   },
   "source": [
    "### 自行尋找一個合適的 API 接口做練習，並且查看其回傳內容\n",
    "\n",
    "* https://cat-fact.herokuapp.com/facts (來源：https://alexwohlbruck.github.io/cat-facts/)\n",
    "* http://odata.wra.gov.tw/v4/RealtimeWaterLevel (來源：https://data.gov.tw/dataset/25768)\n"
   ]
  },
  {
   "cell_type": "code",
   "execution_count": 13,
   "metadata": {
    "colab": {},
    "colab_type": "code",
    "id": "XDvzxwA0UdOn",
    "outputId": "154b29e6-cd0d-48b9-e659-6e9a3f55e274"
   },
   "outputs": [
    {
     "data": {
      "text/plain": [
       "{'_id': '591d9b2f227c1a0020d26823',\n",
       " 'text': 'Every year, nearly four million cats are eaten in China as a delicacy.',\n",
       " 'type': 'cat',\n",
       " 'user': {'_id': '5a9ac18c7478810ea6c06381',\n",
       "  'name': {'first': 'Alex', 'last': 'Wohlbruck'}},\n",
       " 'upvotes': 10,\n",
       " 'userUpvoted': None}"
      ]
     },
     "execution_count": 13,
     "metadata": {},
     "output_type": "execute_result"
    }
   ],
   "source": [
    "r = requests.get(\"https://cat-fact.herokuapp.com/facts\")\n",
    "json.loads(r.text)['all'][0]"
   ]
  },
  {
   "cell_type": "code",
   "execution_count": 17,
   "metadata": {
    "colab": {},
    "colab_type": "code",
    "id": "H5EyeQRIUdOr"
   },
   "outputs": [
    {
     "data": {
      "text/plain": [
       "{'message': 'Sign in first'}"
      ]
     },
     "execution_count": 17,
     "metadata": {},
     "output_type": "execute_result"
    }
   ],
   "source": [
    "r = requests.post('https://cat-fact.herokuapp.com/facts')\n",
    "json.loads(r.text)"
   ]
  }
 ],
 "metadata": {
  "colab": {
   "name": "homework.ipynb",
   "provenance": []
  },
  "kernelspec": {
   "display_name": "Python 3",
   "language": "python",
   "name": "python3"
  },
  "language_info": {
   "codemirror_mode": {
    "name": "ipython",
    "version": 3
   },
   "file_extension": ".py",
   "mimetype": "text/x-python",
   "name": "python",
   "nbconvert_exporter": "python",
   "pygments_lexer": "ipython3",
   "version": "3.7.7"
  }
 },
 "nbformat": 4,
 "nbformat_minor": 1
}
